{
 "cells": [
  {
   "cell_type": "code",
   "execution_count": null,
   "metadata": {},
   "outputs": [],
   "source": [
    "import os\n",
    "import cv2\n",
    "import torch\n",
    "import random\n",
    "import numpy as np\n",
    "from tosem.io.image import read_rgb\n",
    "from tosem.io import load_config\n",
    "from tosem.transform import Transform\n",
    "from tosem import create_model\n",
    "from tosem.dataset import SegmentationDataset\n",
    "from tosem.utils import plot_predictions"
   ]
  },
  {
   "cell_type": "markdown",
   "metadata": {},
   "source": [
    "### **Checkpoints and config from experiments**"
   ]
  },
  {
   "cell_type": "code",
   "execution_count": null,
   "metadata": {},
   "outputs": [],
   "source": [
    "ckpt_path = ...\n",
    "config_path = ..."
   ]
  },
  {
   "cell_type": "code",
   "execution_count": null,
   "metadata": {},
   "outputs": [],
   "source": [
    "config = load_config(config_path)"
   ]
  },
  {
   "cell_type": "code",
   "execution_count": null,
   "metadata": {},
   "outputs": [],
   "source": [
    "model = create_model(\n",
    "    **config[\"model\"],\n",
    "    ckpt_path=ckpt_path\n",
    ")"
   ]
  },
  {
   "cell_type": "code",
   "execution_count": null,
   "metadata": {},
   "outputs": [],
   "source": [
    "model.eval();"
   ]
  },
  {
   "cell_type": "markdown",
   "metadata": {},
   "source": [
    "### **Dataset**"
   ]
  },
  {
   "cell_type": "code",
   "execution_count": null,
   "metadata": {},
   "outputs": [],
   "source": [
    "data_dir = \"/Users/riccardomusmeci/Developer/data/github/smart-arrotino/lyft/split\""
   ]
  },
  {
   "cell_type": "code",
   "execution_count": null,
   "metadata": {},
   "outputs": [],
   "source": [
    "dataset = SegmentationDataset(\n",
    "    data_dir=data_dir,\n",
    "    train=False,\n",
    "    transform=Transform(\n",
    "        train=False,\n",
    "        **config[\"transform\"]\n",
    "    ),\n",
    "    class_channel=0\n",
    ")"
   ]
  },
  {
   "cell_type": "markdown",
   "metadata": {},
   "source": [
    "## **Inference + plot on random images**"
   ]
  },
  {
   "cell_type": "code",
   "execution_count": null,
   "metadata": {},
   "outputs": [],
   "source": [
    "# Random selection\n",
    "threshold=.5\n",
    "index = random.randint(0, len(dataset))\n",
    "img_path = os.path.join(data_dir, \"val\", \"images\", dataset.images[index])\n",
    "print(f\"Image index {index} - Image: {img_path}\")\n",
    "\n",
    "# Model Inference\n",
    "with torch.no_grad():\n",
    "    x, mask = dataset[index]\n",
    "    x = x.unsqueeze(0)\n",
    "    logits = model(x)\n",
    "    if config[\"model\"][\"num_classes\"] == 2:\n",
    "        preds = torch.sigmoid(logits)\n",
    "    else:\n",
    "        preds = torch.softmax(logits, dim=1)\n",
    "    preds = torch.argmax(preds, dim=1, keepdim=True)\n",
    "\n",
    "# Open image\n",
    "img = read_rgb(img_path)\n",
    "img = cv2.resize(img, config[\"transform\"][\"input_size\"])\n",
    "mask = mask.squeeze().numpy()\n",
    "\n",
    "# Prediction mask filtered\n",
    "pred_mask = preds.squeeze().numpy()\n"
   ]
  },
  {
   "cell_type": "code",
   "execution_count": null,
   "metadata": {},
   "outputs": [],
   "source": [
    "plot_predictions(\n",
    "    image=img,\n",
    "    gt_mask=mask,\n",
    "    mask=pred_mask,\n",
    "    alpha=1\n",
    ")"
   ]
  }
 ],
 "metadata": {
  "kernelspec": {
   "display_name": "Python 3.8.10 ('venv': venv)",
   "language": "python",
   "name": "python3"
  },
  "language_info": {
   "codemirror_mode": {
    "name": "ipython",
    "version": 3
   },
   "file_extension": ".py",
   "mimetype": "text/x-python",
   "name": "python",
   "nbconvert_exporter": "python",
   "pygments_lexer": "ipython3",
   "version": "3.9.16"
  },
  "orig_nbformat": 4,
  "vscode": {
   "interpreter": {
    "hash": "7e4d839ebc5ba66e00527b5099d3d021c3bffdc44acf10d9fca5cd96a09d75e0"
   }
  }
 },
 "nbformat": 4,
 "nbformat_minor": 2
}
